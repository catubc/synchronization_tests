{
 "cells": [
  {
   "cell_type": "code",
   "execution_count": 1,
   "metadata": {},
   "outputs": [
    {
     "data": {
      "application/javascript": [
       "IPython.notebook.set_autosave_interval(180000)"
      ]
     },
     "metadata": {},
     "output_type": "display_data"
    },
    {
     "name": "stdout",
     "output_type": "stream",
     "text": [
      "Autosaving every 180 seconds\n"
     ]
    },
    {
     "data": {
      "text/html": [
       "<style>.container { width:100% !important; }</style>"
      ],
      "text/plain": [
       "<IPython.core.display.HTML object>"
      ]
     },
     "metadata": {},
     "output_type": "display_data"
    }
   ],
   "source": [
    "import matplotlib\n",
    "#matplotlib.use('Agg')\n",
    "%matplotlib tk\n",
    "%autosave 180\n",
    "import matplotlib.pyplot as plt\n",
    "from IPython.core.display import display, HTML\n",
    "display(HTML(\"<style>.container { width:100% !important; }</style>\"))\n",
    "\n",
    "import matplotlib.cm as cm\n",
    "from matplotlib import gridspec\n",
    "from scipy import signal\n",
    "\n",
    "import numpy as np\n",
    "import pandas as pd\n",
    "import os\n",
    "import shutil\n",
    "import cv2\n",
    "\n",
    "import glob2\n",
    "\n",
    "from numba import jit\n",
    "import tables\n",
    "from scipy.io import loadmat\n",
    "import scipy\n",
    "import h5py\n",
    "import hdf5storage\n",
    "\n",
    "colors = [\n",
    "'black','grey','brown','slategrey','darkviolet','darkmagenta',\n",
    "'blue','blue','blue',\n",
    "'red','red','red',\n",
    "'green','green','green',\n",
    "'cyan','cyan','cyan',\n",
    "'orange','orange','orange',\n",
    "    \n",
    "'orange','firebrick','lawngreen','dodgerblue','crimson','orchid','slateblue',\n",
    "'darkgreen','darkorange','indianred','darkviolet','deepskyblue','greenyellow',\n",
    "'peru','cadetblue','forestgreen','slategrey','lightsteelblue','rebeccapurple',\n",
    "'darkmagenta','yellow','hotpink']"
   ]
  },
  {
   "cell_type": "code",
   "execution_count": 121,
   "metadata": {},
   "outputs": [
    {
     "name": "stdout",
     "output_type": "stream",
     "text": [
      "zero centred:  [0.00000000e+00 4.00029998e-02 8.00069999e-02 ... 3.59973906e+03\n",
      " 3.59977907e+03 3.59981907e+03]\n"
     ]
    }
   ],
   "source": [
    "# name of .mat file containing trigger poitns\n",
    "fname_in = '/media/cat/1TB/insync_cm5635/march_2/video/completed/2020-3-15_03:51:56:415333_compressed/2020-3-15_03_51_56_415333 Mar-27-2020  2_02 PM.mat'\n",
    "data = hdf5storage.read(filename=fname_in) \n",
    "\n",
    "suffix = \"short_mouse\"\n",
    "#suffix = \"long_rat\"\n",
    "\n",
    "# video name\n",
    "video_name = \"/media/cat/1TB/insync_cm5635/march_2/video/completed/dan_USV_triggered/2020-3-15_03_51_56_415333/2020-3-15_03:51:56:415333_compressed.avi\"\n",
    "frame_rate = 25\n",
    "\n",
    "# load frame timestamps and set them to start at 0sec\n",
    "times_loaded = np.loadtxt('/media/cat/1TB/insync_cm5635/march_2/video/completed/2020-3-15_03:51:56:415333_compressed/2020-3-15_03_51_56_415333.txt')\n",
    "times_loaded = times_loaded-times_loaded[0]\n",
    "print (\"zero centred: \", times_loaded)\n",
    "\n"
   ]
  },
  {
   "cell_type": "code",
   "execution_count": 122,
   "metadata": {},
   "outputs": [
    {
     "name": "stdout",
     "output_type": "stream",
     "text": [
      "[[array([['Rate']], dtype='<U4') array([['Box']], dtype='<U3')\n",
      "  array([['RelBox']], dtype='<U6') array([['Score']], dtype='<U5')\n",
      "  array([['Audio']], dtype='<U5') array([['Type']], dtype='<U4')\n",
      "  array([['Power']], dtype='<U5') array([['Accept']], dtype='<U6')]]\n",
      "USV times:  [ 123.02577693  124.1903699   132.04501825  132.81647888  133.37966346\n",
      "  133.55502972  133.9396563   277.34522581  594.85207484  595.05733599\n",
      "  595.61330029  595.91717396  596.19247396  596.47922346  596.75464884\n",
      "  597.03760567  628.7608624   654.61974711  656.39265564  664.625084\n",
      "  664.87766567  665.13987857  670.38567537  670.74768267  670.99283365\n",
      "  687.94648188  688.6913779   689.58887169  689.69511568  689.9233824\n",
      "  690.76622871  691.11542434  699.62422899  699.85345648  700.35874182\n",
      " 2266.0288663  2462.65386256 2592.46661145 3166.42928955 3433.20655113\n",
      " 3444.97800841]\n"
     ]
    }
   ],
   "source": [
    "# load .mat data structures.\n",
    "\n",
    "Rate = data[0][0][0][0][0][4][0][0]\n",
    "Box = data[0][0][0][0][0][4][0][1]\n",
    "ReBox = data[0][0][0][0][0][4][0][2]\n",
    "Score = data[0][0][0][0][0][4][0][3]\n",
    "Audio = data[0][0][0][0][0][4][0][4]\n",
    "Type = data[0][0][0][0][0][4][0][5]\n",
    "Power = data[0][0][0][0][0][4][0][6]\n",
    "Accept = data[0][0][0][0][0][4][0][7]\n",
    "print (data[0][0][0][0][0][9])\n",
    "\n",
    "start = Box[:,0]\n",
    "print (\"USV times: \", start)\n",
    "\n",
    "#np.save(fname_in[:-4]+\"_USV_starts_long_rat.npy\", start)\n",
    "\n"
   ]
  },
  {
   "cell_type": "code",
   "execution_count": 41,
   "metadata": {
    "scrolled": true
   },
   "outputs": [
    {
     "name": "stdout",
     "output_type": "stream",
     "text": [
      "loading USV 0 , at time:  123.0257769266894  , frame # (based on 25.0hz):  3075 , timestamp frame:  3076\n",
      "setting frame time to:  3001\n",
      "loading USV 1 , at time:  124.19036990480906  , frame # (based on 25.0hz):  3104 , timestamp frame:  3105\n",
      "setting frame time to:  3030\n",
      "loading USV 2 , at time:  132.04501824750275  , frame # (based on 25.0hz):  3301 , timestamp frame:  3301\n",
      "setting frame time to:  3226\n",
      "loading USV 3 , at time:  132.81647888495655  , frame # (based on 25.0hz):  3320 , timestamp frame:  3321\n",
      "setting frame time to:  3246\n",
      "loading USV 4 , at time:  133.37966346251937  , frame # (based on 25.0hz):  3334 , timestamp frame:  3335\n",
      "setting frame time to:  3260\n",
      "loading USV 5 , at time:  133.55502972197823  , frame # (based on 25.0hz):  3338 , timestamp frame:  3339\n",
      "setting frame time to:  3264\n",
      "loading USV 6 , at time:  133.93965629697112  , frame # (based on 25.0hz):  3348 , timestamp frame:  3349\n",
      "setting frame time to:  3274\n",
      "loading USV 7 , at time:  277.34522581095445  , frame # (based on 25.0hz):  6933 , timestamp frame:  6933\n",
      "setting frame time to:  6858\n",
      "loading USV 8 , at time:  594.852074835017  , frame # (based on 25.0hz):  14871 , timestamp frame:  14870\n",
      "setting frame time to:  14795\n",
      "loading USV 9 , at time:  595.0573359927095  , frame # (based on 25.0hz):  14876 , timestamp frame:  14876\n",
      "setting frame time to:  14801\n",
      "loading USV 10 , at time:  595.6133002943583  , frame # (based on 25.0hz):  14890 , timestamp frame:  14889\n",
      "setting frame time to:  14814\n",
      "loading USV 11 , at time:  595.917173964761  , frame # (based on 25.0hz):  14897 , timestamp frame:  14897\n",
      "setting frame time to:  14822\n",
      "loading USV 12 , at time:  596.1924739629762  , frame # (based on 25.0hz):  14904 , timestamp frame:  14904\n",
      "setting frame time to:  14829\n",
      "loading USV 13 , at time:  596.4792234588002  , frame # (based on 25.0hz):  14911 , timestamp frame:  14911\n",
      "setting frame time to:  14836\n",
      "loading USV 14 , at time:  596.7546488374998  , frame # (based on 25.0hz):  14918 , timestamp frame:  14918\n",
      "setting frame time to:  14843\n",
      "loading USV 15 , at time:  597.0376056689657  , frame # (based on 25.0hz):  14925 , timestamp frame:  14925\n",
      "setting frame time to:  14850\n",
      "loading USV 16 , at time:  628.7608624006381  , frame # (based on 25.0hz):  15719 , timestamp frame:  15718\n",
      "setting frame time to:  15643\n",
      "loading USV 17 , at time:  654.61974711386  , frame # (based on 25.0hz):  16365 , timestamp frame:  16364\n",
      "setting frame time to:  16289\n",
      "loading USV 18 , at time:  656.3926556382357  , frame # (based on 25.0hz):  16409 , timestamp frame:  16409\n",
      "setting frame time to:  16334\n",
      "loading USV 19 , at time:  664.625084003952  , frame # (based on 25.0hz):  16615 , timestamp frame:  16615\n",
      "setting frame time to:  16540\n",
      "loading USV 20 , at time:  664.8776656671087  , frame # (based on 25.0hz):  16621 , timestamp frame:  16621\n",
      "setting frame time to:  16546\n",
      "loading USV 21 , at time:  665.1398785677726  , frame # (based on 25.0hz):  16628 , timestamp frame:  16627\n",
      "setting frame time to:  16552\n",
      "loading USV 22 , at time:  670.3856753658132  , frame # (based on 25.0hz):  16759 , timestamp frame:  16759\n",
      "setting frame time to:  16684\n",
      "loading USV 23 , at time:  670.7476826696753  , frame # (based on 25.0hz):  16768 , timestamp frame:  16768\n",
      "setting frame time to:  16693\n",
      "loading USV 24 , at time:  670.9928336503649  , frame # (based on 25.0hz):  16774 , timestamp frame:  16774\n",
      "setting frame time to:  16699\n",
      "loading USV 25 , at time:  687.9464818837572  , frame # (based on 25.0hz):  17198 , timestamp frame:  17198\n",
      "setting frame time to:  17123\n",
      "loading USV 26 , at time:  688.6913778993656  , frame # (based on 25.0hz):  17217 , timestamp frame:  17216\n",
      "setting frame time to:  17141\n",
      "loading USV 27 , at time:  689.588871690697  , frame # (based on 25.0hz):  17239 , timestamp frame:  17239\n",
      "setting frame time to:  17164\n",
      "loading USV 28 , at time:  689.6951156778392  , frame # (based on 25.0hz):  17242 , timestamp frame:  17241\n",
      "setting frame time to:  17166\n",
      "loading USV 29 , at time:  689.9233824004262  , frame # (based on 25.0hz):  17248 , timestamp frame:  17247\n",
      "setting frame time to:  17172\n",
      "loading USV 30 , at time:  690.766228707001  , frame # (based on 25.0hz):  17269 , timestamp frame:  17268\n",
      "setting frame time to:  17193\n",
      "loading USV 31 , at time:  691.1154243362844  , frame # (based on 25.0hz):  17277 , timestamp frame:  17277\n",
      "setting frame time to:  17202\n",
      "loading USV 32 , at time:  699.6242289903325  , frame # (based on 25.0hz):  17490 , timestamp frame:  17489\n",
      "setting frame time to:  17414\n",
      "loading USV 33 , at time:  699.8534564808735  , frame # (based on 25.0hz):  17496 , timestamp frame:  17495\n",
      "setting frame time to:  17420\n",
      "loading USV 34 , at time:  700.3587418222855  , frame # (based on 25.0hz):  17508 , timestamp frame:  17508\n",
      "setting frame time to:  17433\n",
      "loading USV 35 , at time:  2266.0288663006054  , frame # (based on 25.0hz):  56650 , timestamp frame:  56646\n",
      "setting frame time to:  56571\n",
      "loading USV 36 , at time:  2462.653862557387  , frame # (based on 25.0hz):  61566 , timestamp frame:  61561\n",
      "setting frame time to:  61486\n",
      "loading USV 37 , at time:  2592.466611448769  , frame # (based on 25.0hz):  64811 , timestamp frame:  64806\n",
      "setting frame time to:  64731\n",
      "loading USV 38 , at time:  3166.429289545075  , frame # (based on 25.0hz):  79160 , timestamp frame:  79154\n",
      "setting frame time to:  79079\n",
      "loading USV 39 , at time:  3433.206551126878  , frame # (based on 25.0hz):  85830 , timestamp frame:  85823\n",
      "setting frame time to:  85748\n",
      "loading USV 40 , at time:  3444.9780084124586  , frame # (based on 25.0hz):  86124 , timestamp frame:  86117\n",
      "setting frame time to:  86042\n"
     ]
    }
   ],
   "source": [
    "# video writing step\n",
    "fourcc = cv2.VideoWriter_fourcc('M','P','E','G')\n",
    "original_vid = cv2.VideoCapture(video_name)\n",
    "\n",
    "ctr=0\n",
    "for time_ in start:\n",
    "\n",
    "    # figure out index of starting frame and move video to location\n",
    "    # assume 25.0 hz was perect\n",
    "    frame_no1 = int(time_*frame_rate)\n",
    "    \n",
    "    # use timestamp file\n",
    "    idx = np.where(times_loaded>time_)[0][0]\n",
    "    frame_no2 = idx\n",
    "\n",
    "    frame_used = frame_no2\n",
    "    \n",
    "    print (\"loading USV \"+str(ctr)+ \" , at time: \", time_, \" , frame # (based on 25.0hz): \", frame_no1, \", timestamp frame: \", frame_no2)\n",
    "    print (\"setting frame time to: \", frame_used-frame_rate*3)\n",
    "    original_vid.set(1,frame_used-frame_rate*3)\n",
    "\n",
    "    # initialize video writer for file to be saved\n",
    "    try:\n",
    "        os.mkdir(os.path.split(fname_in)[0]+'/audio_triggered/')\n",
    "    except:\n",
    "        pass\n",
    "    \n",
    "    fname_out = os.path.split(fname_in)[0]+'/audio_triggered/'+\\\n",
    "            str(round(time_,3))+'sec_USV_'+ \\\n",
    "            str(ctr+1).zfill(3)+\"_\"+suffix+'.avi'\n",
    "    video_out = cv2.VideoWriter(fname_out,fourcc, 25, (512,512), True)\n",
    "    \n",
    "    #Read the next frame from the video. If you set frame 749 above then the code will return the last frame.\n",
    "    for k in range(frame_rate*6):\n",
    "        ret, frame = original_vid.read()\n",
    "        \n",
    "        frame_cropped = frame[:,150:1174][::2,::2]\n",
    "        #frame_cropped[:7,:20]= digits[0]\n",
    "        \n",
    "        if k == frame_rate*3:\n",
    "            frame_cropped[:25,:25]= (np.float32(\n",
    "                matplotlib.colors.to_rgb('red'))*255.).astype('uint8')\n",
    "        \n",
    "        video_out.write(frame_cropped)\n",
    "\n",
    "    ctr+=1\n",
    "    \n",
    "    video_out.release()\n",
    "    original_vid.set(cv2.CAP_PROP_POS_FRAMES, 0)\n",
    "    \n",
    "    #break\n",
    "    "
   ]
  },
  {
   "cell_type": "code",
   "execution_count": 134,
   "metadata": {},
   "outputs": [
    {
     "name": "stdout",
     "output_type": "stream",
     "text": [
      "Index(['Unnamed: 0', 'A-Male adult', 'B-Female adult', 'C-fluffy pup',\n",
      "       'D-shaved pup', 'Unnamed: 5', 'Unnamed: 6', 'Unnamed: 7', 'Unnamed: 8',\n",
      "       'Unnamed: 9', 'Unnamed: 10', 'Unnamed: 11', 'Unnamed: 12'],\n",
      "      dtype='object')\n"
     ]
    }
   ],
   "source": [
    "import pandas\n",
    "\n",
    "df = pandas.read_excel('/media/cat/1TB/insync_cm5635/march_2/video/completed/2020-3-15_03:51:56:415333_compressed/2020-3-15_03_51_56_415333.xlsx')\n",
    "\n",
    "# print the column names\n",
    "print (df.columns)\n",
    "\n",
    "# get the values for a given column\n",
    "times_ = df[df.columns[0]].values\n",
    "time_array = []\n",
    "for t in times_:\n",
    "    time_array.append((t.hour * 60 + t.minute) * 60 + t.second)\n",
    "\n",
    "male = df[df.columns[1]].values\n",
    "female = df[df.columns[2]].values\n",
    "pup1 = df[df.columns[3]].values\n",
    "pup2 = df[df.columns[4]].values\n",
    "\n",
    "# \n",
    "idx = np.where(male=='A-C')[0]\n",
    "male[idx]=13\n",
    "idx = np.where(male=='A-B')[0]\n",
    "male[idx]=13\n",
    "\n",
    "idx = np.where(female=='B-D')[0]\n",
    "female[idx]=13\n",
    "idx = np.where(female=='B-C')[0]\n",
    "female[idx]=13\n",
    "\n",
    "idx = np.where(pup1=='B-C')[0]\n",
    "pup1[idx]=13\n",
    "idx = np.where(pup1=='C-D')[0]\n",
    "pup1[idx]=13\n",
    "idx = np.where(pup1=='A-C')[0]\n",
    "pup1[idx]=13\n",
    "\n",
    "idx = np.where(pup2=='A-C')[0]\n",
    "pup2[idx]=13\n",
    "idx = np.where(pup2=='A-B')[0]\n",
    "pup2[idx]=13\n",
    "idx = np.where(pup2=='C-D')[0]\n",
    "pup2[idx]=13\n",
    "idx = np.where(pup2=='A-D')[0]\n",
    "pup2[idx]=13\n",
    "idx = np.where(pup2=='B-D')[0]\n",
    "pup2[idx]=13\n",
    "#\n",
    "plt.plot(male, c='blue', label=\"male\")\n",
    "plt.plot(female, c='red', label=\"female\")\n",
    "plt.plot(pup1, c='green', label=\"pup1\")\n",
    "plt.plot(pup2, c='cyan', label=\"pup2\")\n",
    "plt.xlabel(\"Time (sec)\", fontsize=20)\n",
    "plt.ylabel(\"States\",fontsize=20)\n",
    "plt.legend(fontsize=20)\n",
    "\n",
    "plt.scatter(start, start*0+13, c='black')\n",
    "\n",
    "labels = [\n",
    "    \"1 Scratching walls\",\n",
    "    \"2 Digging beddings\",\n",
    "    \"3 Playing (scratching) with blocks or hut\",\n",
    "    \"4 Self grooming\",\n",
    "    \"5 Sleeping\",\n",
    "    \"6 Walking\",\n",
    "    \"7 Chasing\",\n",
    "    \"8 Being Chased\",\n",
    "    \"9 Eating\",\n",
    "    \"10 Drinking/ at spout\",\n",
    "    \"11 Occluded\",\n",
    "    \"12\",\n",
    "    \"13 Social Interaction\"\n",
    "]\n",
    "plt.yticks(np.arange(1,14,1),labels)\n",
    "\n",
    "\n",
    "\n",
    "plt.show()\n"
   ]
  },
  {
   "cell_type": "code",
   "execution_count": null,
   "metadata": {},
   "outputs": [],
   "source": []
  },
  {
   "cell_type": "code",
   "execution_count": 78,
   "metadata": {
    "scrolled": true
   },
   "outputs": [
    {
     "name": "stdout",
     "output_type": "stream",
     "text": [
      "0\n",
      "1000\n",
      "2000\n",
      "3000\n",
      "4000\n",
      "5000\n",
      "6000\n",
      "7000\n",
      "8000\n",
      "9000\n",
      "10000\n",
      "11000\n",
      "12000\n",
      "13000\n",
      "14000\n",
      "15000\n",
      "16000\n",
      "17000\n",
      "18000\n",
      "19000\n",
      "20000\n",
      "21000\n",
      "22000\n",
      "23000\n",
      "24000\n",
      "25000\n",
      "26000\n",
      "27000\n",
      "28000\n",
      "29000\n",
      "30000\n",
      "31000\n",
      "32000\n",
      "33000\n",
      "34000\n",
      "35000\n",
      "36000\n",
      "37000\n",
      "38000\n",
      "39000\n",
      "40000\n",
      "41000\n",
      "42000\n",
      "43000\n",
      "44000\n",
      "45000\n",
      "46000\n",
      "47000\n",
      "48000\n",
      "49000\n",
      "50000\n",
      "51000\n",
      "52000\n",
      "53000\n",
      "54000\n",
      "55000\n",
      "56000\n",
      "57000\n",
      "58000\n",
      "59000\n",
      "60000\n",
      "61000\n",
      "62000\n",
      "63000\n",
      "64000\n",
      "65000\n",
      "66000\n",
      "67000\n",
      "68000\n",
      "69000\n",
      "70000\n",
      "71000\n",
      "72000\n",
      "73000\n",
      "74000\n",
      "75000\n",
      "76000\n",
      "77000\n",
      "78000\n",
      "79000\n",
      "80000\n",
      "81000\n",
      "82000\n",
      "83000\n",
      "84000\n",
      "85000\n",
      "86000\n",
      "87000\n",
      "88000\n",
      "89000\n"
     ]
    },
    {
     "ename": "TypeError",
     "evalue": "'NoneType' object is not subscriptable",
     "output_type": "error",
     "traceback": [
      "\u001b[0;31m---------------------------------------------------------------------------\u001b[0m",
      "\u001b[0;31mTypeError\u001b[0m                                 Traceback (most recent call last)",
      "\u001b[0;32m<ipython-input-78-fed9a04fd964>\u001b[0m in \u001b[0;36m<module>\u001b[0;34m\u001b[0m\n\u001b[1;32m     18\u001b[0m     \u001b[0;31m#              np.sum(old_frame[:,:,1]-frame[:,:,1]),\u001b[0m\u001b[0;34m\u001b[0m\u001b[0;34m\u001b[0m\u001b[0;34m\u001b[0m\u001b[0m\n\u001b[1;32m     19\u001b[0m     \u001b[0;31m#              np.sum(old_frame[:,:,2]-frame[:,:,2])])\u001b[0m\u001b[0;34m\u001b[0m\u001b[0;34m\u001b[0m\u001b[0;34m\u001b[0m\u001b[0m\n\u001b[0;32m---> 20\u001b[0;31m     \u001b[0mmotion\u001b[0m\u001b[0;34m.\u001b[0m\u001b[0mappend\u001b[0m\u001b[0;34m(\u001b[0m\u001b[0mnp\u001b[0m\u001b[0;34m.\u001b[0m\u001b[0msum\u001b[0m\u001b[0;34m(\u001b[0m\u001b[0mold_frame\u001b[0m\u001b[0;34m[\u001b[0m\u001b[0;34m:\u001b[0m\u001b[0;34m,\u001b[0m\u001b[0;34m:\u001b[0m\u001b[0;34m,\u001b[0m\u001b[0;36m1\u001b[0m\u001b[0;34m]\u001b[0m\u001b[0;34m-\u001b[0m\u001b[0mframe\u001b[0m\u001b[0;34m[\u001b[0m\u001b[0;34m:\u001b[0m\u001b[0;34m,\u001b[0m\u001b[0;34m:\u001b[0m\u001b[0;34m,\u001b[0m\u001b[0;36m1\u001b[0m\u001b[0;34m]\u001b[0m\u001b[0;34m)\u001b[0m\u001b[0;34m)\u001b[0m\u001b[0;34m\u001b[0m\u001b[0;34m\u001b[0m\u001b[0m\n\u001b[0m\u001b[1;32m     21\u001b[0m \u001b[0;34m\u001b[0m\u001b[0m\n\u001b[1;32m     22\u001b[0m     \u001b[0;32mif\u001b[0m \u001b[0mret\u001b[0m\u001b[0;34m==\u001b[0m\u001b[0;32mFalse\u001b[0m\u001b[0;34m:\u001b[0m\u001b[0;34m\u001b[0m\u001b[0;34m\u001b[0m\u001b[0m\n",
      "\u001b[0;31mTypeError\u001b[0m: 'NoneType' object is not subscriptable"
     ]
    }
   ],
   "source": [
    "# plot time course of video vs. other data \n",
    "\n",
    "fname_vid = '/media/cat/1TB/insync_cm5635/march_2/video/completed/dan_USV_triggered/2020-3-15_03_51_56_415333/2020-3-15_03:51:56:415333_compressed.avi'\n",
    "original_vid.release()\n",
    "original_vid = cv2.VideoCapture(video_name)\n",
    "original_vid.set(cv2.CAP_PROP_POS_FRAMES, 0)\n",
    "\n",
    "ctr=0\n",
    "motion = []\n",
    "ret, old_frame = original_vid.read()\n",
    "while True:\n",
    "    if ctr%1000==0:\n",
    "        print (ctr)\n",
    "\n",
    "    ret, frame = original_vid.read()\n",
    "    \n",
    "    #motion.append([np.sum(old_frame[:,:,0]-frame[:,:,0]),\n",
    "    #              np.sum(old_frame[:,:,1]-frame[:,:,1]),\n",
    "    #              np.sum(old_frame[:,:,2]-frame[:,:,2])])\n",
    "    motion.append(np.sum(old_frame[:,:,1]-frame[:,:,1]))\n",
    "    \n",
    "    if ret==False:\n",
    "        break\n",
    "    #if ctr>1000:\n",
    "    #    break\n",
    "    ctr+=1\n",
    "    old_frame = frame\n",
    "        \n",
    "motion = np.vstack(motion)\n",
    "print (motion)\n",
    "print (motion.shape)\n",
    "fig=plt.figure()\n",
    "plt.plot(motion,c='green')\n",
    "# plt.plot(motion[:,1],c='green')\n",
    "# plt.plot(motion[:,2],c='blue')\n",
    "plt.show()\n"
   ]
  },
  {
   "cell_type": "code",
   "execution_count": 81,
   "metadata": {},
   "outputs": [
    {
     "name": "stdout",
     "output_type": "stream",
     "text": [
      "(89987,)\n"
     ]
    }
   ],
   "source": [
    "print (np.array(motion).shape)\n",
    "\n",
    "np.save('/media/cat/1TB/insync_cm5635/march_2/video/completed/2020-3-15_03:51:56:415333_compressed/motion.npy', motion)"
   ]
  },
  {
   "cell_type": "code",
   "execution_count": 84,
   "metadata": {
    "scrolled": true
   },
   "outputs": [
    {
     "name": "stdout",
     "output_type": "stream",
     "text": [
      "[0.00000000e+00 2.77817907e-04 5.55635814e-04 ... 1.24993055e+01\n",
      " 1.24995833e+01 1.24998611e+01]\n",
      "(44994,)\n",
      "(44994,)\n"
     ]
    }
   ],
   "source": [
    "fs=25\n",
    "\n",
    "f, Pxx_den = signal.periodogram(np.float32(motion).squeeze(), fs)\n",
    "print (f)\n",
    "print (f.shape)\n",
    "print (Pxx_den.shape)\n",
    "plt.semilogy(f, Pxx_den)\n",
    "#plt.ylim([1e-7, 1e2])\n",
    "plt.xlabel('frequency [Hz]')\n",
    "plt.ylabel('PSD [V**2/Hz]')\n",
    "plt.title(\"Video power spectrum\")\n",
    "plt.show()"
   ]
  },
  {
   "cell_type": "code",
   "execution_count": 71,
   "metadata": {},
   "outputs": [
    {
     "name": "stdout",
     "output_type": "stream",
     "text": [
      "(100000,)\n"
     ]
    }
   ],
   "source": [
    "# filter data\n"
   ]
  },
  {
   "cell_type": "code",
   "execution_count": null,
   "metadata": {},
   "outputs": [],
   "source": []
  },
  {
   "cell_type": "code",
   "execution_count": 77,
   "metadata": {},
   "outputs": [
    {
     "ename": "MemoryError",
     "evalue": "Unable to allocate 330. GiB for an array with shape (89988, 1024, 1280, 3) and data type uint8",
     "output_type": "error",
     "traceback": [
      "\u001b[0;31m---------------------------------------------------------------------------\u001b[0m",
      "\u001b[0;31mMemoryError\u001b[0m                               Traceback (most recent call last)",
      "\u001b[0;32m<ipython-input-77-20c2c8836d47>\u001b[0m in \u001b[0;36m<module>\u001b[0;34m\u001b[0m\n\u001b[1;32m      1\u001b[0m \u001b[0;32mimport\u001b[0m \u001b[0mskvideo\u001b[0m\u001b[0;34m.\u001b[0m\u001b[0mio\u001b[0m\u001b[0;34m\u001b[0m\u001b[0;34m\u001b[0m\u001b[0m\n\u001b[1;32m      2\u001b[0m \u001b[0mfname_vid\u001b[0m \u001b[0;34m=\u001b[0m \u001b[0;34m'/media/cat/1TB/insync_cm5635/march_2/video/completed/dan_USV_triggered/2020-3-15_03_51_56_415333/2020-3-15_03:51:56:415333_compressed.avi'\u001b[0m\u001b[0;34m\u001b[0m\u001b[0;34m\u001b[0m\u001b[0m\n\u001b[0;32m----> 3\u001b[0;31m \u001b[0mvideodata\u001b[0m \u001b[0;34m=\u001b[0m \u001b[0mskvideo\u001b[0m\u001b[0;34m.\u001b[0m\u001b[0mio\u001b[0m\u001b[0;34m.\u001b[0m\u001b[0mvread\u001b[0m\u001b[0;34m(\u001b[0m\u001b[0mfname_vid\u001b[0m\u001b[0;34m)\u001b[0m\u001b[0;34m\u001b[0m\u001b[0;34m\u001b[0m\u001b[0m\n\u001b[0m\u001b[1;32m      4\u001b[0m \u001b[0mprint\u001b[0m\u001b[0;34m(\u001b[0m\u001b[0mvideodata\u001b[0m\u001b[0;34m.\u001b[0m\u001b[0mshape\u001b[0m\u001b[0;34m)\u001b[0m\u001b[0;34m\u001b[0m\u001b[0;34m\u001b[0m\u001b[0m\n",
      "\u001b[0;32m~/anaconda3/lib/python3.7/site-packages/skvideo/io/io.py\u001b[0m in \u001b[0;36mvread\u001b[0;34m(fname, height, width, num_frames, as_grey, inputdict, outputdict, backend, verbosity)\u001b[0m\n\u001b[1;32m    145\u001b[0m         \u001b[0mT\u001b[0m\u001b[0;34m,\u001b[0m \u001b[0mM\u001b[0m\u001b[0;34m,\u001b[0m \u001b[0mN\u001b[0m\u001b[0;34m,\u001b[0m \u001b[0mC\u001b[0m \u001b[0;34m=\u001b[0m \u001b[0mreader\u001b[0m\u001b[0;34m.\u001b[0m\u001b[0mgetShape\u001b[0m\u001b[0;34m(\u001b[0m\u001b[0;34m)\u001b[0m\u001b[0;34m\u001b[0m\u001b[0;34m\u001b[0m\u001b[0m\n\u001b[1;32m    146\u001b[0m \u001b[0;34m\u001b[0m\u001b[0m\n\u001b[0;32m--> 147\u001b[0;31m         \u001b[0mvideodata\u001b[0m \u001b[0;34m=\u001b[0m \u001b[0mnp\u001b[0m\u001b[0;34m.\u001b[0m\u001b[0mzeros\u001b[0m\u001b[0;34m(\u001b[0m\u001b[0;34m(\u001b[0m\u001b[0mT\u001b[0m\u001b[0;34m,\u001b[0m \u001b[0mM\u001b[0m\u001b[0;34m,\u001b[0m \u001b[0mN\u001b[0m\u001b[0;34m,\u001b[0m \u001b[0mC\u001b[0m\u001b[0;34m)\u001b[0m\u001b[0;34m,\u001b[0m \u001b[0mdtype\u001b[0m\u001b[0;34m=\u001b[0m\u001b[0mnp\u001b[0m\u001b[0;34m.\u001b[0m\u001b[0muint8\u001b[0m\u001b[0;34m)\u001b[0m\u001b[0;34m\u001b[0m\u001b[0;34m\u001b[0m\u001b[0m\n\u001b[0m\u001b[1;32m    148\u001b[0m         \u001b[0;32mfor\u001b[0m \u001b[0midx\u001b[0m\u001b[0;34m,\u001b[0m \u001b[0mframe\u001b[0m \u001b[0;32min\u001b[0m \u001b[0menumerate\u001b[0m\u001b[0;34m(\u001b[0m\u001b[0mreader\u001b[0m\u001b[0;34m.\u001b[0m\u001b[0mnextFrame\u001b[0m\u001b[0;34m(\u001b[0m\u001b[0;34m)\u001b[0m\u001b[0;34m)\u001b[0m\u001b[0;34m:\u001b[0m\u001b[0;34m\u001b[0m\u001b[0;34m\u001b[0m\u001b[0m\n\u001b[1;32m    149\u001b[0m             \u001b[0mvideodata\u001b[0m\u001b[0;34m[\u001b[0m\u001b[0midx\u001b[0m\u001b[0;34m,\u001b[0m \u001b[0;34m:\u001b[0m\u001b[0;34m,\u001b[0m \u001b[0;34m:\u001b[0m\u001b[0;34m,\u001b[0m \u001b[0;34m:\u001b[0m\u001b[0;34m]\u001b[0m \u001b[0;34m=\u001b[0m \u001b[0mframe\u001b[0m\u001b[0;34m\u001b[0m\u001b[0;34m\u001b[0m\u001b[0m\n",
      "\u001b[0;31mMemoryError\u001b[0m: Unable to allocate 330. GiB for an array with shape (89988, 1024, 1280, 3) and data type uint8"
     ]
    }
   ],
   "source": [
    "import skvideo.io  \n",
    "fname_vid = '/media/cat/1TB/insync_cm5635/march_2/video/completed/dan_USV_triggered/2020-3-15_03_51_56_415333/2020-3-15_03:51:56:415333_compressed.avi'\n",
    "videodata = skvideo.io.vread(fname_vid)  \n",
    "print(videodata.shape)"
   ]
  },
  {
   "cell_type": "code",
   "execution_count": null,
   "metadata": {},
   "outputs": [],
   "source": []
  }
 ],
 "metadata": {
  "kernelspec": {
   "display_name": "Python 3",
   "language": "python",
   "name": "python3"
  },
  "language_info": {
   "codemirror_mode": {
    "name": "ipython",
    "version": 3
   },
   "file_extension": ".py",
   "mimetype": "text/x-python",
   "name": "python",
   "nbconvert_exporter": "python",
   "pygments_lexer": "ipython3",
   "version": "3.7.6"
  }
 },
 "nbformat": 4,
 "nbformat_minor": 4
}
