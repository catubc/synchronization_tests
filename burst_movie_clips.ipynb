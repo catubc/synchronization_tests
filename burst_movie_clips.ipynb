{
 "cells": [
  {
   "cell_type": "code",
   "execution_count": 2,
   "metadata": {},
   "outputs": [
    {
     "data": {
      "application/javascript": [
       "IPython.notebook.set_autosave_interval(180000)"
      ]
     },
     "metadata": {},
     "output_type": "display_data"
    },
    {
     "name": "stdout",
     "output_type": "stream",
     "text": [
      "Autosaving every 180 seconds\n"
     ]
    },
    {
     "data": {
      "text/html": [
       "<style>.container { width:100% !important; }</style>"
      ],
      "text/plain": [
       "<IPython.core.display.HTML object>"
      ]
     },
     "metadata": {},
     "output_type": "display_data"
    }
   ],
   "source": [
    "import matplotlib\n",
    "#matplotlib.use('Agg')\n",
    "%matplotlib tk\n",
    "%autosave 180\n",
    "import matplotlib.pyplot as plt\n",
    "from IPython.core.display import display, HTML\n",
    "display(HTML(\"<style>.container { width:100% !important; }</style>\"))\n",
    "\n",
    "import matplotlib.cm as cm\n",
    "from matplotlib import gridspec\n",
    "from scipy import signal\n",
    "\n",
    "import numpy as np\n",
    "import pandas as pd\n",
    "import os\n",
    "import shutil\n",
    "import cv2\n",
    "\n",
    "import glob2\n",
    "\n",
    "from numba import jit\n",
    "import tables\n",
    "from scipy.io import loadmat\n",
    "import scipy\n",
    "import h5py\n",
    "import hdf5storage\n",
    "\n",
    "colors = [\n",
    "'black','grey','brown','slategrey','darkviolet','darkmagenta',\n",
    "'blue','blue','blue',\n",
    "'red','red','red',\n",
    "'green','green','green',\n",
    "'cyan','cyan','cyan',\n",
    "'orange','orange','orange',\n",
    "    \n",
    "'orange','firebrick','lawngreen','dodgerblue','crimson','orchid','slateblue',\n",
    "'darkgreen','darkorange','indianred','darkviolet','deepskyblue','greenyellow',\n",
    "'peru','cadetblue','forestgreen','slategrey','lightsteelblue','rebeccapurple',\n",
    "'darkmagenta','yellow','hotpink']"
   ]
  },
  {
   "cell_type": "code",
   "execution_count": 40,
   "metadata": {
    "scrolled": true
   },
   "outputs": [
    {
     "name": "stdout",
     "output_type": "stream",
     "text": [
      "BurstTS:  [[ 133.36347057]\n",
      " [ 594.78355127]\n",
      " [ 628.70578627]\n",
      " [ 676.59002458]\n",
      " [ 677.26379442]\n",
      " [ 689.57244896]\n",
      " [ 690.7412301 ]\n",
      " [ 696.1685718 ]\n",
      " [ 696.86554853]\n",
      " [1373.93435597]]\n",
      "zero centred:  [0.00000000e+00 4.00029998e-02 8.00069999e-02 ... 3.59973906e+03\n",
      " 3.59977907e+03 3.59981907e+03]\n"
     ]
    }
   ],
   "source": [
    "# name of .mat file containing trigger poitns\n",
    "import scipy.io as sio\n",
    "\n",
    "fname_in = '/media/cat/1TB/insync_cm5635/Bursts/2020-3-15_03_51_56_415333 Apr-21-2020  7_17 PM (manual)CallBurstTimes.mat'\n",
    "#data = hdf5storage.read(filename=fname_in) \n",
    "data = sio.loadmat(fname_in) \n",
    "#print (data)\n",
    "\n",
    "BurstCall = data['BurstCall']\n",
    "BurstTS = data['BurstTS']\n",
    "durations = data['durations']\n",
    "n_per_burst = data['n_per_burst']\n",
    "\n",
    "print (\"BurstTS: \", BurstTS)\n",
    "# video name\n",
    "video_name = \"/media/cat/1TB/insync_cm5635/march_2/video/completed/dan_USV_triggered/2020-3-15_03_51_56_415333/2020-3-15_03:51:56:415333_compressed.avi\"\n",
    "frame_rate = 25\n",
    "\n",
    "# load frame timestamps and set them to start at 0sec\n",
    "times_loaded = np.loadtxt('/media/cat/1TB/insync_cm5635/march_2/times/2020-3-15_03:51:56:415333.txt')\n",
    "times_loaded = times_loaded-times_loaded[0]\n",
    "print (\"zero centred: \", times_loaded)\n",
    "\n"
   ]
  },
  {
   "cell_type": "code",
   "execution_count": 41,
   "metadata": {
    "scrolled": true
   },
   "outputs": [
    {
     "name": "stdout",
     "output_type": "stream",
     "text": [
      "USV times:  [[ 133.36347057]\n",
      " [ 594.78355127]\n",
      " [ 628.70578627]\n",
      " [ 676.59002458]\n",
      " [ 677.26379442]\n",
      " [ 689.57244896]\n",
      " [ 690.7412301 ]\n",
      " [ 696.1685718 ]\n",
      " [ 696.86554853]\n",
      " [1373.93435597]]\n"
     ]
    }
   ],
   "source": [
    "# load .mat data structures.\n",
    "\n",
    "# Rate = data[0][0][0][0][0][4][0][0]\n",
    "# Box = data[0][0][0][0][0][4][0][1]\n",
    "# ReBox = data[0][0][0][0][0][4][0][2]\n",
    "# Score = data[0][0][0][0][0][4][0][3]\n",
    "# Audio = data[0][0][0][0][0][4][0][4]\n",
    "# Type = data[0][0][0][0][0][4][0][5]\n",
    "# Power = data[0][0][0][0][0][4][0][6]\n",
    "# Accept = data[0][0][0][0][0][4][0][7]\n",
    "# print (data[0][0][0][0][0][9])\n",
    "\n",
    "start = BurstTS\n",
    "print (\"USV times: \", start)\n",
    "\n",
    "#np.save(fname_in[:-4]+\"_USV_starts_long_rat.npy\", start)\n",
    "\n"
   ]
  },
  {
   "cell_type": "code",
   "execution_count": 42,
   "metadata": {
    "scrolled": true
   },
   "outputs": [
    {
     "name": "stdout",
     "output_type": "stream",
     "text": [
      "loading USV 0 , at time:  [133.36347057]  , frame # (based on 25.0hz):  3334 , timestamp frame:  3334\n",
      "setting frame time to:  3259\n",
      "/media/cat/1TB/insync_cm5635/Bursts/2020-3-15_03_51_56_415333 Apr-21-2020  7_17 PM (manual)CallBurstTimes.mat/audio_triggered/\n",
      "KKK:  /media/cat/1TB/insync_cm5635/Bursts/2020-3-15_03_51_56_415333 Apr-21-2020  7_17 PM (manual)CallBurstTimes.mat/\n",
      "time:  [133.36347057]\n",
      "loading USV 1 , at time:  [594.78355127]  , frame # (based on 25.0hz):  14869 , timestamp frame:  14869\n",
      "setting frame time to:  14794\n",
      "/media/cat/1TB/insync_cm5635/Bursts/2020-3-15_03_51_56_415333 Apr-21-2020  7_17 PM (manual)CallBurstTimes.mat/audio_triggered/\n",
      "KKK:  /media/cat/1TB/insync_cm5635/Bursts/2020-3-15_03_51_56_415333 Apr-21-2020  7_17 PM (manual)CallBurstTimes.mat/\n",
      "time:  [594.78355127]\n",
      "loading USV 2 , at time:  [628.70578627]  , frame # (based on 25.0hz):  15717 , timestamp frame:  15717\n",
      "setting frame time to:  15642\n",
      "/media/cat/1TB/insync_cm5635/Bursts/2020-3-15_03_51_56_415333 Apr-21-2020  7_17 PM (manual)CallBurstTimes.mat/audio_triggered/\n",
      "KKK:  /media/cat/1TB/insync_cm5635/Bursts/2020-3-15_03_51_56_415333 Apr-21-2020  7_17 PM (manual)CallBurstTimes.mat/\n",
      "time:  [628.70578627]\n",
      "loading USV 3 , at time:  [676.59002458]  , frame # (based on 25.0hz):  16914 , timestamp frame:  16914\n",
      "setting frame time to:  16839\n",
      "/media/cat/1TB/insync_cm5635/Bursts/2020-3-15_03_51_56_415333 Apr-21-2020  7_17 PM (manual)CallBurstTimes.mat/audio_triggered/\n",
      "KKK:  /media/cat/1TB/insync_cm5635/Bursts/2020-3-15_03_51_56_415333 Apr-21-2020  7_17 PM (manual)CallBurstTimes.mat/\n",
      "time:  [676.59002458]\n",
      "loading USV 4 , at time:  [677.26379442]  , frame # (based on 25.0hz):  16931 , timestamp frame:  16931\n",
      "setting frame time to:  16856\n",
      "/media/cat/1TB/insync_cm5635/Bursts/2020-3-15_03_51_56_415333 Apr-21-2020  7_17 PM (manual)CallBurstTimes.mat/audio_triggered/\n",
      "KKK:  /media/cat/1TB/insync_cm5635/Bursts/2020-3-15_03_51_56_415333 Apr-21-2020  7_17 PM (manual)CallBurstTimes.mat/\n",
      "time:  [677.26379442]\n",
      "loading USV 5 , at time:  [689.57244896]  , frame # (based on 25.0hz):  17239 , timestamp frame:  17238\n",
      "setting frame time to:  17163\n",
      "/media/cat/1TB/insync_cm5635/Bursts/2020-3-15_03_51_56_415333 Apr-21-2020  7_17 PM (manual)CallBurstTimes.mat/audio_triggered/\n",
      "KKK:  /media/cat/1TB/insync_cm5635/Bursts/2020-3-15_03_51_56_415333 Apr-21-2020  7_17 PM (manual)CallBurstTimes.mat/\n",
      "time:  [689.57244896]\n",
      "loading USV 6 , at time:  [690.7412301]  , frame # (based on 25.0hz):  17268 , timestamp frame:  17267\n",
      "setting frame time to:  17192\n",
      "/media/cat/1TB/insync_cm5635/Bursts/2020-3-15_03_51_56_415333 Apr-21-2020  7_17 PM (manual)CallBurstTimes.mat/audio_triggered/\n",
      "KKK:  /media/cat/1TB/insync_cm5635/Bursts/2020-3-15_03_51_56_415333 Apr-21-2020  7_17 PM (manual)CallBurstTimes.mat/\n",
      "time:  [690.7412301]\n",
      "loading USV 7 , at time:  [696.1685718]  , frame # (based on 25.0hz):  17404 , timestamp frame:  17403\n",
      "setting frame time to:  17328\n",
      "/media/cat/1TB/insync_cm5635/Bursts/2020-3-15_03_51_56_415333 Apr-21-2020  7_17 PM (manual)CallBurstTimes.mat/audio_triggered/\n",
      "KKK:  /media/cat/1TB/insync_cm5635/Bursts/2020-3-15_03_51_56_415333 Apr-21-2020  7_17 PM (manual)CallBurstTimes.mat/\n",
      "time:  [696.1685718]\n",
      "loading USV 8 , at time:  [696.86554853]  , frame # (based on 25.0hz):  17421 , timestamp frame:  17420\n",
      "setting frame time to:  17345\n",
      "/media/cat/1TB/insync_cm5635/Bursts/2020-3-15_03_51_56_415333 Apr-21-2020  7_17 PM (manual)CallBurstTimes.mat/audio_triggered/\n",
      "KKK:  /media/cat/1TB/insync_cm5635/Bursts/2020-3-15_03_51_56_415333 Apr-21-2020  7_17 PM (manual)CallBurstTimes.mat/\n",
      "time:  [696.86554853]\n",
      "loading USV 9 , at time:  [1373.93435597]  , frame # (based on 25.0hz):  34348 , timestamp frame:  34346\n",
      "setting frame time to:  34271\n",
      "/media/cat/1TB/insync_cm5635/Bursts/2020-3-15_03_51_56_415333 Apr-21-2020  7_17 PM (manual)CallBurstTimes.mat/audio_triggered/\n",
      "KKK:  /media/cat/1TB/insync_cm5635/Bursts/2020-3-15_03_51_56_415333 Apr-21-2020  7_17 PM (manual)CallBurstTimes.mat/\n",
      "time:  [1373.93435597]\n"
     ]
    }
   ],
   "source": [
    "# video writing step\n",
    "fourcc = cv2.VideoWriter_fourcc('M','P','E','G')\n",
    "original_vid = cv2.VideoCapture(video_name)\n",
    "\n",
    "ctr=0\n",
    "for time_ in start:\n",
    "\n",
    "    # figure out index of starting frame and move video to location\n",
    "    # assume 25.0 hz was perect\n",
    "    frame_no1 = int(time_*frame_rate)\n",
    "    \n",
    "    # use timestamp file\n",
    "    idx = np.where(times_loaded>time_)[0][0]\n",
    "    frame_no2 = idx\n",
    "\n",
    "    frame_used = frame_no2\n",
    "    \n",
    "    print (\"loading USV \"+str(ctr)+ \" , at time: \", time_, \" , frame # (based on 25.0hz): \", frame_no1, \", timestamp frame: \", frame_no2)\n",
    "    print (\"setting frame time to: \", frame_used-frame_rate*3)\n",
    "    original_vid.set(1,frame_used-frame_rate*3)\n",
    "\n",
    "    # initialize video writer for file to be saved\n",
    "    print (fname_in+'/audio_triggered/')\n",
    "    print (\"KKK: \", fname_in+'/')\n",
    "    try:\n",
    "        os.mkdir(fname_in[:-4]+'/')\n",
    "    except:\n",
    "        pass\n",
    "    print (\"time: \", time_)\n",
    "    fname_out = fname_in[:-4]+'/'+str(round(time_[0],3))+\\\n",
    "                'sec_USV_'+ str(ctr+1).zfill(3)+'.avi'\n",
    "    video_out = cv2.VideoWriter(fname_out,fourcc, 25, (512,512), True)\n",
    "    \n",
    "    #Read the next frame from the video. If you set frame 749 above then the code will return the last frame.\n",
    "    for k in range(frame_rate*6):\n",
    "        ret, frame = original_vid.read()\n",
    "        \n",
    "        frame_cropped = frame[:,150:1174][::2,::2]\n",
    "        #frame_cropped[:7,:20]= digits[0]\n",
    "        \n",
    "        if k == frame_rate*3:\n",
    "            frame_cropped[:25,:25]= (np.float32(\n",
    "                matplotlib.colors.to_rgb('red'))*255.).astype('uint8')\n",
    "        \n",
    "        video_out.write(frame_cropped)\n",
    "\n",
    "    ctr+=1\n",
    "    \n",
    "    video_out.release()\n",
    "    original_vid.set(cv2.CAP_PROP_POS_FRAMES, 0)\n",
    "    \n",
    "    #break\n",
    "    "
   ]
  },
  {
   "cell_type": "code",
   "execution_count": 134,
   "metadata": {},
   "outputs": [
    {
     "name": "stdout",
     "output_type": "stream",
     "text": [
      "Index(['Unnamed: 0', 'A-Male adult', 'B-Female adult', 'C-fluffy pup',\n",
      "       'D-shaved pup', 'Unnamed: 5', 'Unnamed: 6', 'Unnamed: 7', 'Unnamed: 8',\n",
      "       'Unnamed: 9', 'Unnamed: 10', 'Unnamed: 11', 'Unnamed: 12'],\n",
      "      dtype='object')\n"
     ]
    }
   ],
   "source": [
    "import pandas\n",
    "\n",
    "df = pandas.read_excel('/media/cat/1TB/insync_cm5635/march_2/video/completed/2020-3-15_03:51:56:415333_compressed/2020-3-15_03_51_56_415333.xlsx')\n",
    "\n",
    "# print the column names\n",
    "print (df.columns)\n",
    "\n",
    "# get the values for a given column\n",
    "times_ = df[df.columns[0]].values\n",
    "time_array = []\n",
    "for t in times_:\n",
    "    time_array.append((t.hour * 60 + t.minute) * 60 + t.second)\n",
    "\n",
    "male = df[df.columns[1]].values\n",
    "female = df[df.columns[2]].values\n",
    "pup1 = df[df.columns[3]].values\n",
    "pup2 = df[df.columns[4]].values\n",
    "\n",
    "# \n",
    "idx = np.where(male=='A-C')[0]\n",
    "male[idx]=13\n",
    "idx = np.where(male=='A-B')[0]\n",
    "male[idx]=13\n",
    "\n",
    "idx = np.where(female=='B-D')[0]\n",
    "female[idx]=13\n",
    "idx = np.where(female=='B-C')[0]\n",
    "female[idx]=13\n",
    "\n",
    "idx = np.where(pup1=='B-C')[0]\n",
    "pup1[idx]=13\n",
    "idx = np.where(pup1=='C-D')[0]\n",
    "pup1[idx]=13\n",
    "idx = np.where(pup1=='A-C')[0]\n",
    "pup1[idx]=13\n",
    "\n",
    "idx = np.where(pup2=='A-C')[0]\n",
    "pup2[idx]=13\n",
    "idx = np.where(pup2=='A-B')[0]\n",
    "pup2[idx]=13\n",
    "idx = np.where(pup2=='C-D')[0]\n",
    "pup2[idx]=13\n",
    "idx = np.where(pup2=='A-D')[0]\n",
    "pup2[idx]=13\n",
    "idx = np.where(pup2=='B-D')[0]\n",
    "pup2[idx]=13\n",
    "#\n",
    "plt.plot(male, c='blue', label=\"male\")\n",
    "plt.plot(female, c='red', label=\"female\")\n",
    "plt.plot(pup1, c='green', label=\"pup1\")\n",
    "plt.plot(pup2, c='cyan', label=\"pup2\")\n",
    "plt.xlabel(\"Time (sec)\", fontsize=20)\n",
    "plt.ylabel(\"States\",fontsize=20)\n",
    "plt.legend(fontsize=20)\n",
    "\n",
    "plt.scatter(start, start*0+13, c='black')\n",
    "\n",
    "labels = [\n",
    "    \"1 Scratching walls\",\n",
    "    \"2 Digging beddings\",\n",
    "    \"3 Playing (scratching) with blocks or hut\",\n",
    "    \"4 Self grooming\",\n",
    "    \"5 Sleeping\",\n",
    "    \"6 Walking\",\n",
    "    \"7 Chasing\",\n",
    "    \"8 Being Chased\",\n",
    "    \"9 Eating\",\n",
    "    \"10 Drinking/ at spout\",\n",
    "    \"11 Occluded\",\n",
    "    \"12\",\n",
    "    \"13 Social Interaction\"\n",
    "]\n",
    "plt.yticks(np.arange(1,14,1),labels)\n",
    "\n",
    "\n",
    "\n",
    "plt.show()\n"
   ]
  },
  {
   "cell_type": "code",
   "execution_count": null,
   "metadata": {},
   "outputs": [],
   "source": []
  },
  {
   "cell_type": "code",
   "execution_count": 78,
   "metadata": {
    "scrolled": true
   },
   "outputs": [
    {
     "name": "stdout",
     "output_type": "stream",
     "text": [
      "0\n",
      "1000\n",
      "2000\n",
      "3000\n",
      "4000\n",
      "5000\n",
      "6000\n",
      "7000\n",
      "8000\n",
      "9000\n",
      "10000\n",
      "11000\n",
      "12000\n",
      "13000\n",
      "14000\n",
      "15000\n",
      "16000\n",
      "17000\n",
      "18000\n",
      "19000\n",
      "20000\n",
      "21000\n",
      "22000\n",
      "23000\n",
      "24000\n",
      "25000\n",
      "26000\n",
      "27000\n",
      "28000\n",
      "29000\n",
      "30000\n",
      "31000\n",
      "32000\n",
      "33000\n",
      "34000\n",
      "35000\n",
      "36000\n",
      "37000\n",
      "38000\n",
      "39000\n",
      "40000\n",
      "41000\n",
      "42000\n",
      "43000\n",
      "44000\n",
      "45000\n",
      "46000\n",
      "47000\n",
      "48000\n",
      "49000\n",
      "50000\n",
      "51000\n",
      "52000\n",
      "53000\n",
      "54000\n",
      "55000\n",
      "56000\n",
      "57000\n",
      "58000\n",
      "59000\n",
      "60000\n",
      "61000\n",
      "62000\n",
      "63000\n",
      "64000\n",
      "65000\n",
      "66000\n",
      "67000\n",
      "68000\n",
      "69000\n",
      "70000\n",
      "71000\n",
      "72000\n",
      "73000\n",
      "74000\n",
      "75000\n",
      "76000\n",
      "77000\n",
      "78000\n",
      "79000\n",
      "80000\n",
      "81000\n",
      "82000\n",
      "83000\n",
      "84000\n",
      "85000\n",
      "86000\n",
      "87000\n",
      "88000\n",
      "89000\n"
     ]
    },
    {
     "ename": "TypeError",
     "evalue": "'NoneType' object is not subscriptable",
     "output_type": "error",
     "traceback": [
      "\u001b[0;31m---------------------------------------------------------------------------\u001b[0m",
      "\u001b[0;31mTypeError\u001b[0m                                 Traceback (most recent call last)",
      "\u001b[0;32m<ipython-input-78-fed9a04fd964>\u001b[0m in \u001b[0;36m<module>\u001b[0;34m\u001b[0m\n\u001b[1;32m     18\u001b[0m     \u001b[0;31m#              np.sum(old_frame[:,:,1]-frame[:,:,1]),\u001b[0m\u001b[0;34m\u001b[0m\u001b[0;34m\u001b[0m\u001b[0;34m\u001b[0m\u001b[0m\n\u001b[1;32m     19\u001b[0m     \u001b[0;31m#              np.sum(old_frame[:,:,2]-frame[:,:,2])])\u001b[0m\u001b[0;34m\u001b[0m\u001b[0;34m\u001b[0m\u001b[0;34m\u001b[0m\u001b[0m\n\u001b[0;32m---> 20\u001b[0;31m     \u001b[0mmotion\u001b[0m\u001b[0;34m.\u001b[0m\u001b[0mappend\u001b[0m\u001b[0;34m(\u001b[0m\u001b[0mnp\u001b[0m\u001b[0;34m.\u001b[0m\u001b[0msum\u001b[0m\u001b[0;34m(\u001b[0m\u001b[0mold_frame\u001b[0m\u001b[0;34m[\u001b[0m\u001b[0;34m:\u001b[0m\u001b[0;34m,\u001b[0m\u001b[0;34m:\u001b[0m\u001b[0;34m,\u001b[0m\u001b[0;36m1\u001b[0m\u001b[0;34m]\u001b[0m\u001b[0;34m-\u001b[0m\u001b[0mframe\u001b[0m\u001b[0;34m[\u001b[0m\u001b[0;34m:\u001b[0m\u001b[0;34m,\u001b[0m\u001b[0;34m:\u001b[0m\u001b[0;34m,\u001b[0m\u001b[0;36m1\u001b[0m\u001b[0;34m]\u001b[0m\u001b[0;34m)\u001b[0m\u001b[0;34m)\u001b[0m\u001b[0;34m\u001b[0m\u001b[0;34m\u001b[0m\u001b[0m\n\u001b[0m\u001b[1;32m     21\u001b[0m \u001b[0;34m\u001b[0m\u001b[0m\n\u001b[1;32m     22\u001b[0m     \u001b[0;32mif\u001b[0m \u001b[0mret\u001b[0m\u001b[0;34m==\u001b[0m\u001b[0;32mFalse\u001b[0m\u001b[0;34m:\u001b[0m\u001b[0;34m\u001b[0m\u001b[0;34m\u001b[0m\u001b[0m\n",
      "\u001b[0;31mTypeError\u001b[0m: 'NoneType' object is not subscriptable"
     ]
    }
   ],
   "source": [
    "# plot time course of video vs. other data \n",
    "\n",
    "fname_vid = '/media/cat/1TB/insync_cm5635/march_2/video/completed/dan_USV_triggered/2020-3-15_03_51_56_415333/2020-3-15_03:51:56:415333_compressed.avi'\n",
    "original_vid.release()\n",
    "original_vid = cv2.VideoCapture(video_name)\n",
    "original_vid.set(cv2.CAP_PROP_POS_FRAMES, 0)\n",
    "\n",
    "ctr=0\n",
    "motion = []\n",
    "ret, old_frame = original_vid.read()\n",
    "while True:\n",
    "    if ctr%1000==0:\n",
    "        print (ctr)\n",
    "\n",
    "    ret, frame = original_vid.read()\n",
    "    \n",
    "    #motion.append([np.sum(old_frame[:,:,0]-frame[:,:,0]),\n",
    "    #              np.sum(old_frame[:,:,1]-frame[:,:,1]),\n",
    "    #              np.sum(old_frame[:,:,2]-frame[:,:,2])])\n",
    "    motion.append(np.sum(old_frame[:,:,1]-frame[:,:,1]))\n",
    "    \n",
    "    if ret==False:\n",
    "        break\n",
    "    #if ctr>1000:\n",
    "    #    break\n",
    "    ctr+=1\n",
    "    old_frame = frame\n",
    "        \n",
    "motion = np.vstack(motion)\n",
    "print (motion)\n",
    "print (motion.shape)\n",
    "fig=plt.figure()\n",
    "plt.plot(motion,c='green')\n",
    "# plt.plot(motion[:,1],c='green')\n",
    "# plt.plot(motion[:,2],c='blue')\n",
    "plt.show()\n"
   ]
  },
  {
   "cell_type": "code",
   "execution_count": 81,
   "metadata": {},
   "outputs": [
    {
     "name": "stdout",
     "output_type": "stream",
     "text": [
      "(89987,)\n"
     ]
    }
   ],
   "source": [
    "print (np.array(motion).shape)\n",
    "\n",
    "np.save('/media/cat/1TB/insync_cm5635/march_2/video/completed/2020-3-15_03:51:56:415333_compressed/motion.npy', motion)"
   ]
  },
  {
   "cell_type": "code",
   "execution_count": 84,
   "metadata": {
    "scrolled": true
   },
   "outputs": [
    {
     "name": "stdout",
     "output_type": "stream",
     "text": [
      "[0.00000000e+00 2.77817907e-04 5.55635814e-04 ... 1.24993055e+01\n",
      " 1.24995833e+01 1.24998611e+01]\n",
      "(44994,)\n",
      "(44994,)\n"
     ]
    }
   ],
   "source": [
    "fs=25\n",
    "\n",
    "f, Pxx_den = signal.periodogram(np.float32(motion).squeeze(), fs)\n",
    "print (f)\n",
    "print (f.shape)\n",
    "print (Pxx_den.shape)\n",
    "plt.semilogy(f, Pxx_den)\n",
    "#plt.ylim([1e-7, 1e2])\n",
    "plt.xlabel('frequency [Hz]')\n",
    "plt.ylabel('PSD [V**2/Hz]')\n",
    "plt.title(\"Video power spectrum\")\n",
    "plt.show()"
   ]
  },
  {
   "cell_type": "code",
   "execution_count": 71,
   "metadata": {},
   "outputs": [
    {
     "name": "stdout",
     "output_type": "stream",
     "text": [
      "(100000,)\n"
     ]
    }
   ],
   "source": [
    "# filter data\n"
   ]
  },
  {
   "cell_type": "code",
   "execution_count": null,
   "metadata": {},
   "outputs": [],
   "source": []
  },
  {
   "cell_type": "code",
   "execution_count": 77,
   "metadata": {},
   "outputs": [
    {
     "ename": "MemoryError",
     "evalue": "Unable to allocate 330. GiB for an array with shape (89988, 1024, 1280, 3) and data type uint8",
     "output_type": "error",
     "traceback": [
      "\u001b[0;31m---------------------------------------------------------------------------\u001b[0m",
      "\u001b[0;31mMemoryError\u001b[0m                               Traceback (most recent call last)",
      "\u001b[0;32m<ipython-input-77-20c2c8836d47>\u001b[0m in \u001b[0;36m<module>\u001b[0;34m\u001b[0m\n\u001b[1;32m      1\u001b[0m \u001b[0;32mimport\u001b[0m \u001b[0mskvideo\u001b[0m\u001b[0;34m.\u001b[0m\u001b[0mio\u001b[0m\u001b[0;34m\u001b[0m\u001b[0;34m\u001b[0m\u001b[0m\n\u001b[1;32m      2\u001b[0m \u001b[0mfname_vid\u001b[0m \u001b[0;34m=\u001b[0m \u001b[0;34m'/media/cat/1TB/insync_cm5635/march_2/video/completed/dan_USV_triggered/2020-3-15_03_51_56_415333/2020-3-15_03:51:56:415333_compressed.avi'\u001b[0m\u001b[0;34m\u001b[0m\u001b[0;34m\u001b[0m\u001b[0m\n\u001b[0;32m----> 3\u001b[0;31m \u001b[0mvideodata\u001b[0m \u001b[0;34m=\u001b[0m \u001b[0mskvideo\u001b[0m\u001b[0;34m.\u001b[0m\u001b[0mio\u001b[0m\u001b[0;34m.\u001b[0m\u001b[0mvread\u001b[0m\u001b[0;34m(\u001b[0m\u001b[0mfname_vid\u001b[0m\u001b[0;34m)\u001b[0m\u001b[0;34m\u001b[0m\u001b[0;34m\u001b[0m\u001b[0m\n\u001b[0m\u001b[1;32m      4\u001b[0m \u001b[0mprint\u001b[0m\u001b[0;34m(\u001b[0m\u001b[0mvideodata\u001b[0m\u001b[0;34m.\u001b[0m\u001b[0mshape\u001b[0m\u001b[0;34m)\u001b[0m\u001b[0;34m\u001b[0m\u001b[0;34m\u001b[0m\u001b[0m\n",
      "\u001b[0;32m~/anaconda3/lib/python3.7/site-packages/skvideo/io/io.py\u001b[0m in \u001b[0;36mvread\u001b[0;34m(fname, height, width, num_frames, as_grey, inputdict, outputdict, backend, verbosity)\u001b[0m\n\u001b[1;32m    145\u001b[0m         \u001b[0mT\u001b[0m\u001b[0;34m,\u001b[0m \u001b[0mM\u001b[0m\u001b[0;34m,\u001b[0m \u001b[0mN\u001b[0m\u001b[0;34m,\u001b[0m \u001b[0mC\u001b[0m \u001b[0;34m=\u001b[0m \u001b[0mreader\u001b[0m\u001b[0;34m.\u001b[0m\u001b[0mgetShape\u001b[0m\u001b[0;34m(\u001b[0m\u001b[0;34m)\u001b[0m\u001b[0;34m\u001b[0m\u001b[0;34m\u001b[0m\u001b[0m\n\u001b[1;32m    146\u001b[0m \u001b[0;34m\u001b[0m\u001b[0m\n\u001b[0;32m--> 147\u001b[0;31m         \u001b[0mvideodata\u001b[0m \u001b[0;34m=\u001b[0m \u001b[0mnp\u001b[0m\u001b[0;34m.\u001b[0m\u001b[0mzeros\u001b[0m\u001b[0;34m(\u001b[0m\u001b[0;34m(\u001b[0m\u001b[0mT\u001b[0m\u001b[0;34m,\u001b[0m \u001b[0mM\u001b[0m\u001b[0;34m,\u001b[0m \u001b[0mN\u001b[0m\u001b[0;34m,\u001b[0m \u001b[0mC\u001b[0m\u001b[0;34m)\u001b[0m\u001b[0;34m,\u001b[0m \u001b[0mdtype\u001b[0m\u001b[0;34m=\u001b[0m\u001b[0mnp\u001b[0m\u001b[0;34m.\u001b[0m\u001b[0muint8\u001b[0m\u001b[0;34m)\u001b[0m\u001b[0;34m\u001b[0m\u001b[0;34m\u001b[0m\u001b[0m\n\u001b[0m\u001b[1;32m    148\u001b[0m         \u001b[0;32mfor\u001b[0m \u001b[0midx\u001b[0m\u001b[0;34m,\u001b[0m \u001b[0mframe\u001b[0m \u001b[0;32min\u001b[0m \u001b[0menumerate\u001b[0m\u001b[0;34m(\u001b[0m\u001b[0mreader\u001b[0m\u001b[0;34m.\u001b[0m\u001b[0mnextFrame\u001b[0m\u001b[0;34m(\u001b[0m\u001b[0;34m)\u001b[0m\u001b[0;34m)\u001b[0m\u001b[0;34m:\u001b[0m\u001b[0;34m\u001b[0m\u001b[0;34m\u001b[0m\u001b[0m\n\u001b[1;32m    149\u001b[0m             \u001b[0mvideodata\u001b[0m\u001b[0;34m[\u001b[0m\u001b[0midx\u001b[0m\u001b[0;34m,\u001b[0m \u001b[0;34m:\u001b[0m\u001b[0;34m,\u001b[0m \u001b[0;34m:\u001b[0m\u001b[0;34m,\u001b[0m \u001b[0;34m:\u001b[0m\u001b[0;34m]\u001b[0m \u001b[0;34m=\u001b[0m \u001b[0mframe\u001b[0m\u001b[0;34m\u001b[0m\u001b[0;34m\u001b[0m\u001b[0m\n",
      "\u001b[0;31mMemoryError\u001b[0m: Unable to allocate 330. GiB for an array with shape (89988, 1024, 1280, 3) and data type uint8"
     ]
    }
   ],
   "source": [
    "import skvideo.io  \n",
    "fname_vid = '/media/cat/1TB/insync_cm5635/march_2/video/completed/dan_USV_triggered/2020-3-15_03_51_56_415333/2020-3-15_03:51:56:415333_compressed.avi'\n",
    "videodata = skvideo.io.vread(fname_vid)  \n",
    "print(videodata.shape)"
   ]
  },
  {
   "cell_type": "code",
   "execution_count": null,
   "metadata": {},
   "outputs": [],
   "source": []
  }
 ],
 "metadata": {
  "kernelspec": {
   "display_name": "Python 3",
   "language": "python",
   "name": "python3"
  },
  "language_info": {
   "codemirror_mode": {
    "name": "ipython",
    "version": 3
   },
   "file_extension": ".py",
   "mimetype": "text/x-python",
   "name": "python",
   "nbconvert_exporter": "python",
   "pygments_lexer": "ipython3",
   "version": "3.7.6"
  }
 },
 "nbformat": 4,
 "nbformat_minor": 4
}
