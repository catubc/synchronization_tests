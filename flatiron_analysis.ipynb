{
 "cells": [
  {
   "cell_type": "code",
   "execution_count": 1,
   "metadata": {},
   "outputs": [
    {
     "data": {
      "application/javascript": [
       "IPython.notebook.set_autosave_interval(180000)"
      ]
     },
     "metadata": {},
     "output_type": "display_data"
    },
    {
     "name": "stdout",
     "output_type": "stream",
     "text": [
      "Autosaving every 180 seconds\n"
     ]
    },
    {
     "data": {
      "text/html": [
       "<style>.container { width:100% !important; }</style>"
      ],
      "text/plain": [
       "<IPython.core.display.HTML object>"
      ]
     },
     "metadata": {},
     "output_type": "display_data"
    }
   ],
   "source": [
    "import matplotlib\n",
    "#matplotlib.use('Agg')\n",
    "%matplotlib tk\n",
    "%autosave 180\n",
    "import matplotlib.pyplot as plt\n",
    "from IPython.core.display import display, HTML\n",
    "display(HTML(\"<style>.container { width:100% !important; }</style>\"))\n",
    "\n",
    "import matplotlib.cm as cm\n",
    "from matplotlib import gridspec\n",
    "\n",
    "import numpy as np\n",
    "import pandas as pd\n",
    "import os\n",
    "import shutil\n",
    "import cv2\n",
    "\n",
    "import glob2\n",
    "\n",
    "from numba import jit\n",
    "\n",
    "colors = [\n",
    "'black','grey','brown','slategrey','darkviolet','darkmagenta',\n",
    "'blue','blue','blue',\n",
    "'red','red','red',\n",
    "'green','green','green',\n",
    "'cyan','cyan','cyan',\n",
    "'orange','orange','orange',\n",
    "    \n",
    "'orange','firebrick','lawngreen','dodgerblue','crimson','orchid','slateblue''darkgreen','darkorange','indianred','darkviolet','deepskyblue','greenyellow',\n",
    "'peru','cadetblue','forestgreen','slategrey','lightsteelblue','rebeccapurple',\n",
    "'darkmagenta','yellow','hotpink']\n"
   ]
  },
  {
   "cell_type": "code",
   "execution_count": 3,
   "metadata": {},
   "outputs": [
    {
     "name": "stdout",
     "output_type": "stream",
     "text": [
      "(211, 101, 60)\n"
     ]
    }
   ],
   "source": [
    "import numpy as np\n",
    "data = np.load('/media/cat/12TB/insync_cm3746/paninski_lab/data/spikingforest/bionet_static/static_8x_A_2A/tmp/output/templates.npy')\n",
    "print (data.shape)"
   ]
  },
  {
   "cell_type": "code",
   "execution_count": 10,
   "metadata": {},
   "outputs": [],
   "source": [
    "data = np.fromfile('/media/cat/12TB/insync_cm3746/paninski_lab/data/spikingforest/bionet_static/static_8x_A_2A/data.bin','int16')\n",
    "data2d = data.reshape( 60, -1).T\n",
    "#data2d.tofile\n"
   ]
  },
  {
   "cell_type": "code",
   "execution_count": 13,
   "metadata": {},
   "outputs": [
    {
     "name": "stdout",
     "output_type": "stream",
     "text": [
      "(1152000000,)\n"
     ]
    }
   ],
   "source": [
    "data1d = data2d.reshape(-1)\n",
    "print (data1d.shape)"
   ]
  },
  {
   "cell_type": "code",
   "execution_count": 16,
   "metadata": {},
   "outputs": [],
   "source": [
    "data1d.tofile('/media/cat/12TB/insync_cm3746/paninski_lab/data/spikingforest/bionet_static/static_8x_A_2A/data_python.bin')"
   ]
  },
  {
   "cell_type": "code",
   "execution_count": 14,
   "metadata": {},
   "outputs": [],
   "source": [
    "data2d = data1d.reshape(-1,60)\n"
   ]
  },
  {
   "cell_type": "code",
   "execution_count": 15,
   "metadata": {},
   "outputs": [],
   "source": [
    "for k in range(60):\n",
    "    plt.plot(data2d[:10000, k]+k*10,c='black')\n",
    "plt.show()"
   ]
  },
  {
   "cell_type": "code",
   "execution_count": null,
   "metadata": {},
   "outputs": [],
   "source": []
  },
  {
   "cell_type": "code",
   "execution_count": 23,
   "metadata": {},
   "outputs": [
    {
     "name": "stdout",
     "output_type": "stream",
     "text": [
      "# of good units:  87  of total KS2 units:  611\n"
     ]
    }
   ],
   "source": [
    "# parse KS2 units and \n",
    "min_spikes = 600/2\n",
    "max_spikes = 6000*10\n",
    "good_units = []\n",
    "\n",
    "for unit in range(len(ptps)):\n",
    "    if (ptps[unit].shape[0]>min_spikes) and (ptps[unit].shape[0]<max_spikes):\n",
    "        good_units.append(unit)\n",
    "        \n",
    "print (\"# of good units: \", len(good_units), \" of total KS2 units: \", len(ptps))\n",
    "\n",
    "\n"
   ]
  },
  {
   "cell_type": "code",
   "execution_count": 5,
   "metadata": {},
   "outputs": [
    {
     "name": "stdout",
     "output_type": "stream",
     "text": [
      "(708, 101, 60)\n",
      "(211, 101, 60)\n"
     ]
    }
   ],
   "source": [
    "# match \n",
    "templates_gt = np.load('/media/cat/12TB/insync_cm3746/paninski_lab/data/spikingforest/bionet_static/static_8x_A_2A/ground_truth/templates.npy')\n",
    "print (templates_gt.shape)\n",
    "templates_yass = np.load('/media/cat/12TB/insync_cm3746/paninski_lab/data/spikingforest/bionet_static/static_8x_A_2A/tmp/output/templates.npy')\n",
    "print (templates_yass.shape)\n",
    "\n",
    "\n"
   ]
  },
  {
   "cell_type": "code",
   "execution_count": 35,
   "metadata": {},
   "outputs": [
    {
     "name": "stdout",
     "output_type": "stream",
     "text": [
      "(708, 101, 60)\n",
      "(211, 101, 60)\n",
      "times yass:  [  4900   5354  36076  36265  97348 142228 173915 209563 221654 270109\n",
      " 305354 319317 348243 357236 374813 384101 397426 421193 421381 428233]\n",
      "times match:  [106045 106224 200469 200647 276567 276745 296161 296340 493350 493514\n",
      " 540792 540975 806249 806426 822757 822922 869606 869781 892720 892902]\n",
      "unit:  0 , ptp:  16.914463  gt_match:  159 , ptp:  1.7885473 , best cos:  0.36639052629470825  , roll:  -36 , purity:  0.0\n",
      "times yass:  [  9121  14237  19058  25064  40560  47474  55108  60085  64782  71168\n",
      "  79692  80181  87803  94102  96548  97705 104901 113800 119857 124650]\n",
      "times match:  [106045 106224 200469 200647 276567 276745 296161 296340 493350 493514\n",
      " 540792 540975 806249 806426 822757 822922 869606 869781 892720 892902]\n",
      "unit:  1 , ptp:  9.682399  gt_match:  159 , ptp:  1.7885473 , best cos:  0.32616230845451355  , roll:  2 , purity:  0.005751258087706686\n",
      "times yass:  [  6369  13821  17834  32270  34204  49862  52862  69876  82928  85014\n",
      "  85774  96842 103307 110870 117238 120490 134417 145728 159881 175810]\n",
      "times match:  [106045 106224 200469 200647 276567 276745 296161 296340 493350 493514\n",
      " 540792 540975 806249 806426 822757 822922 869606 869781 892720 892902]\n",
      "unit:  2 , ptp:  14.41054  gt_match:  159 , ptp:  1.7885473 , best cos:  0.3940739333629608  , roll:  -10 , purity:  0.0016750418760469012\n",
      "times yass:  [ 24003  32667  47992  75026 130302 146583 155800 181013 186553 202359\n",
      " 208885 264248 292040 314919 343918 352205 357172 367812 373133 383924]\n",
      "times match:  [106045 106224 200469 200647 276567 276745 296161 296340 493350 493514\n",
      " 540792 540975 806249 806426 822757 822922 869606 869781 892720 892902]\n",
      "unit:  3 , ptp:  17.979034  gt_match:  159 , ptp:  1.7885473 , best cos:  0.3943895697593689  , roll:  7 , purity:  0.006639004149377593\n",
      "times yass:  [ 4932  6017 10314 12982 18759 23123 26527 31509 35286 43147 47977 51134\n",
      " 57155 61224 65242 70690 81217 84696 91577 96056]\n",
      "times match:  [106045 106224 200469 200647 276567 276745 296161 296340 493350 493514\n",
      " 540792 540975 806249 806426 822757 822922 869606 869781 892720 892902]\n",
      "unit:  4 , ptp:  19.410583  gt_match:  159 , ptp:  1.7885473 , best cos:  0.4057542383670807  , roll:  -21 , purity:  0.0035169988276670576\n",
      "times yass:  [ 6011  6282  6474 10674 10920 18328 23108 28279 29963 33255 40226 42135\n",
      " 44437 45019 46522 47929 49848 52919 54778 58856]\n",
      "times match:  [106045 106224 200469 200647 276567 276745 296161 296340 493350 493514\n",
      " 540792 540975 806249 806426 822757 822922 869606 869781 892720 892902]\n",
      "unit:  5 , ptp:  5.2968993  gt_match:  159 , ptp:  1.7885473 , best cos:  0.34214603900909424  , roll:  9 , purity:  0.0035161744022503515\n",
      "times yass:  [  6040   7514  17718  25446  37281  40258  45005  52837  57960  61548\n",
      "  75018  79500  86019  91090  96368 104810 110544 114504 116547 123167]\n",
      "times match:  [106045 106224 200469 200647 276567 276745 296161 296340 493350 493514\n",
      " 540792 540975 806249 806426 822757 822922 869606 869781 892720 892902]\n",
      "unit:  6 , ptp:  18.636032  gt_match:  159 , ptp:  1.7885473 , best cos:  0.3426584005355835  , roll:  -4 , purity:  0.002940095553105476\n",
      "times yass:  [ 8137 12415 18485 22605 27026 35094 39808 40974 45871 48761 53978 56752\n",
      " 59957 64057 71780 74181 80062 80794 87647 90631]\n",
      "times match:  [106045 106224 200469 200647 276567 276745 296161 296340 493350 493514\n",
      " 540792 540975 806249 806426 822757 822922 869606 869781 892720 892902]\n",
      "unit:  7 , ptp:  10.741495  gt_match:  159 , ptp:  1.7885473 , best cos:  0.4311758577823639  , roll:  -47 , purity:  0.0025591810620601407\n",
      "times yass:  [  4978  32939  34120  44718  53289  64945  75354 116646 121025 142132\n",
      " 145969 183352 190201 235910 251006 309920 321293 335286 340056 349704]\n",
      "times match:  [  5318   5466  23323  23491  58798  58977  85648  85823 137464 137689\n",
      " 146248 146428 172061 172249 190020 190199 205468 205633 222479 222649]\n",
      "unit:  8 , ptp:  12.077686  gt_match:  101 , ptp:  1.8565454 , best cos:  0.37413403391838074  , roll:  -10 , purity:  0.015734265734265736\n",
      "times yass:  [ 16352  22551  28185  32825  33038  40041  45162  53232  62759  72571\n",
      "  78713  85010  90048 102277 107953 112962 119932 126306 133571 133821]\n",
      "times match:  [106045 106224 200469 200647 276567 276745 296161 296340 493350 493514\n",
      " 540792 540975 806249 806426 822757 822922 869606 869781 892720 892902]\n",
      "unit:  9 , ptp:  29.041346  gt_match:  159 , ptp:  1.7885473 , best cos:  0.42940524220466614  , roll:  -4 , purity:  0.0028178936245156746\n"
     ]
    },
    {
     "ename": "TypeError",
     "evalue": "find_template_match() missing 2 required positional arguments: 'spike_train_yass' and 'spike_train_gt'",
     "output_type": "error",
     "traceback": [
      "\u001b[0;31m---------------------------------------------------------------------------\u001b[0m",
      "\u001b[0;31mRemoteTraceback\u001b[0m                           Traceback (most recent call last)",
      "\u001b[0;31mRemoteTraceback\u001b[0m: \n\"\"\"\nTraceback (most recent call last):\n  File \"/home/cat/anaconda3/lib/python3.6/multiprocessing/pool.py\", line 119, in worker\n    result = (True, func(*args, **kwds))\n  File \"/home/cat/anaconda3/lib/python3.6/multiprocessing/pool.py\", line 44, in mapstar\n    return list(map(*args))\n  File \"/home/cat/anaconda3/lib/python3.6/site-packages/parmap/parmap.py\", line 104, in _func_star_single\n    **func_item_args[3])\nTypeError: find_template_match() missing 2 required positional arguments: 'spike_train_yass' and 'spike_train_gt'\n\"\"\"",
      "\nThe above exception was the direct cause of the following exception:\n",
      "\u001b[0;31mTypeError\u001b[0m                                 Traceback (most recent call last)",
      "\u001b[0;32m<ipython-input-35-7557414fc1ff>\u001b[0m in \u001b[0;36m<module>\u001b[0;34m()\u001b[0m\n\u001b[1;32m    103\u001b[0m                          \u001b[0mtemplates_yass\u001b[0m\u001b[0;34m,\u001b[0m\u001b[0;34m\u001b[0m\u001b[0;34m\u001b[0m\u001b[0m\n\u001b[1;32m    104\u001b[0m                          \u001b[0mtemplates_gt\u001b[0m\u001b[0;34m,\u001b[0m\u001b[0;34m\u001b[0m\u001b[0;34m\u001b[0m\u001b[0m\n\u001b[0;32m--> 105\u001b[0;31m                          pm_processes=16)\n\u001b[0m\u001b[1;32m    106\u001b[0m \u001b[0;34m\u001b[0m\u001b[0m\n\u001b[1;32m    107\u001b[0m \u001b[0;34m\u001b[0m\u001b[0m\n",
      "\u001b[0;32m~/anaconda3/lib/python3.6/site-packages/parmap/parmap.py\u001b[0m in \u001b[0;36mmap\u001b[0;34m(function, iterable, *args, **kwargs)\u001b[0m\n\u001b[1;32m    290\u001b[0m        \u001b[0;34m:\u001b[0m\u001b[0mtype\u001b[0m \u001b[0mpm_pbar\u001b[0m\u001b[0;34m:\u001b[0m \u001b[0mbool\u001b[0m\u001b[0;34m\u001b[0m\u001b[0;34m\u001b[0m\u001b[0m\n\u001b[1;32m    291\u001b[0m     \"\"\"\n\u001b[0;32m--> 292\u001b[0;31m     \u001b[0;32mreturn\u001b[0m \u001b[0m_map_or_starmap\u001b[0m\u001b[0;34m(\u001b[0m\u001b[0mfunction\u001b[0m\u001b[0;34m,\u001b[0m \u001b[0miterable\u001b[0m\u001b[0;34m,\u001b[0m \u001b[0margs\u001b[0m\u001b[0;34m,\u001b[0m \u001b[0mkwargs\u001b[0m\u001b[0;34m,\u001b[0m \u001b[0;34m\"map\"\u001b[0m\u001b[0;34m)\u001b[0m\u001b[0;34m\u001b[0m\u001b[0;34m\u001b[0m\u001b[0m\n\u001b[0m\u001b[1;32m    293\u001b[0m \u001b[0;34m\u001b[0m\u001b[0m\n\u001b[1;32m    294\u001b[0m \u001b[0;34m\u001b[0m\u001b[0m\n",
      "\u001b[0;32m~/anaconda3/lib/python3.6/site-packages/parmap/parmap.py\u001b[0m in \u001b[0;36m_map_or_starmap\u001b[0;34m(function, iterable, args, kwargs, map_or_starmap)\u001b[0m\n\u001b[1;32m    262\u001b[0m                                              repeat(kwargs)),\n\u001b[1;32m    263\u001b[0m                                         chunksize)\n\u001b[0;32m--> 264\u001b[0;31m                 \u001b[0moutput\u001b[0m \u001b[0;34m=\u001b[0m \u001b[0mresult\u001b[0m\u001b[0;34m.\u001b[0m\u001b[0mget\u001b[0m\u001b[0;34m(\u001b[0m\u001b[0;34m)\u001b[0m\u001b[0;34m\u001b[0m\u001b[0;34m\u001b[0m\u001b[0m\n\u001b[0m\u001b[1;32m    265\u001b[0m         \u001b[0;32mfinally\u001b[0m\u001b[0;34m:\u001b[0m\u001b[0;34m\u001b[0m\u001b[0;34m\u001b[0m\u001b[0m\n\u001b[1;32m    266\u001b[0m             \u001b[0;32mif\u001b[0m \u001b[0mclose_pool\u001b[0m\u001b[0;34m:\u001b[0m\u001b[0;34m\u001b[0m\u001b[0;34m\u001b[0m\u001b[0m\n",
      "\u001b[0;32m~/anaconda3/lib/python3.6/multiprocessing/pool.py\u001b[0m in \u001b[0;36mget\u001b[0;34m(self, timeout)\u001b[0m\n\u001b[1;32m    668\u001b[0m             \u001b[0;32mreturn\u001b[0m \u001b[0mself\u001b[0m\u001b[0;34m.\u001b[0m\u001b[0m_value\u001b[0m\u001b[0;34m\u001b[0m\u001b[0;34m\u001b[0m\u001b[0m\n\u001b[1;32m    669\u001b[0m         \u001b[0;32melse\u001b[0m\u001b[0;34m:\u001b[0m\u001b[0;34m\u001b[0m\u001b[0;34m\u001b[0m\u001b[0m\n\u001b[0;32m--> 670\u001b[0;31m             \u001b[0;32mraise\u001b[0m \u001b[0mself\u001b[0m\u001b[0;34m.\u001b[0m\u001b[0m_value\u001b[0m\u001b[0;34m\u001b[0m\u001b[0;34m\u001b[0m\u001b[0m\n\u001b[0m\u001b[1;32m    671\u001b[0m \u001b[0;34m\u001b[0m\u001b[0m\n\u001b[1;32m    672\u001b[0m     \u001b[0;32mdef\u001b[0m \u001b[0m_set\u001b[0m\u001b[0;34m(\u001b[0m\u001b[0mself\u001b[0m\u001b[0;34m,\u001b[0m \u001b[0mi\u001b[0m\u001b[0;34m,\u001b[0m \u001b[0mobj\u001b[0m\u001b[0;34m)\u001b[0m\u001b[0;34m:\u001b[0m\u001b[0;34m\u001b[0m\u001b[0;34m\u001b[0m\u001b[0m\n",
      "\u001b[0;31mTypeError\u001b[0m: find_template_match() missing 2 required positional arguments: 'spike_train_yass' and 'spike_train_gt'"
     ]
    }
   ],
   "source": [
    "import scipy\n",
    "import scipy.spatial\n",
    "\n",
    "\n",
    "def find_spike_match(s1, s2):\n",
    "    max_dist = 60\n",
    "    ctr=0\n",
    "    for s in s1:\n",
    "        dist= np.min(np.abs(s-s2))\n",
    "        if dist<=max_dist:\n",
    "            ctr+=1\n",
    "    \n",
    "    return (ctr)\n",
    "\n",
    "def find_template_match(data_in, match_templates,\n",
    "                        spike_train_yass,\n",
    "                        spike_train_gt):\n",
    "   \n",
    "    #if iter_%50==0:\n",
    "    #    print (\"unit: \", iter_)\n",
    "    \n",
    "    template=data_in[0]\n",
    "    unit = data_in[1]\n",
    "        \n",
    "    template = template.T.ravel()\n",
    "#     plt.plot(template)\n",
    "#     plt.show()\n",
    "#     return (_,_,_,_)\n",
    "\n",
    "    best_result = 0\n",
    "    best_roll=0 \n",
    "    best_match = None\n",
    "    for t in range(match_templates.shape[0]):\n",
    "        #if t%250==0:\n",
    "        #    print (t)\n",
    "        data2 = match_templates[t]\n",
    "        for k in range(-50,50,1):\n",
    "            data_test = np.roll(data2,k,axis=1).T.ravel()\n",
    "            result = 1-scipy.spatial.distance.cosine(template, data_test)\n",
    "            if result>0.8:\n",
    "                print (\" good result: \", t, k, result)\n",
    "            if result>best_result:\n",
    "                best_roll = k\n",
    "                best_result = result\n",
    "                best_match = t\n",
    "\n",
    "    # compute # matches\n",
    "    idx_yass = np.where(spike_train_yass==unit)[0]\n",
    "    times_yass = spike_train_yass[idx_yass,0]\n",
    "    idx_match = np.where(spike_train_gt==best_match)[0]\n",
    "    times_match = spike_train_gt[idx_match,0]\n",
    "    \n",
    "    print (\"times yass: \", times_yass[:20])\n",
    "    print (\"times match: \", times_match[:20])\n",
    "    # find matches\n",
    "    tot_matches = find_spike_match(times_yass, times_match)\n",
    "                \n",
    "    # compute purity, \n",
    "   \n",
    "    purity =  tot_matches/ idx_yass.shape[0]\n",
    "\n",
    "    if False:\n",
    "        plt.plot(template)\n",
    "        plt.plot(match_templates[best_match].T.ravel())\n",
    "    \n",
    "    return (best_match, best_result, best_roll, purity)\n",
    "\n",
    "\n",
    "templates_gt = np.load('/media/cat/12TB/insync_cm3746/paninski_lab/data/spikingforest/bionet_static/static_8x_A_2A/ground_truth/templates.npy')\n",
    "print (templates_gt.shape)\n",
    "ptps_gt = templates_gt.ptp(1).max(1)\n",
    "templates_yass = np.load('/media/cat/12TB/insync_cm3746/paninski_lab/data/spikingforest/bionet_static/static_8x_A_2A/tmp/output/templates.npy')\n",
    "print (templates_yass.shape)\n",
    "ptps_yass = templates_yass.ptp(1).max(1)\n",
    "\n",
    "spike_train_yass = np.load('/media/cat/12TB/insync_cm3746/paninski_lab/data/spikingforest/bionet_static/static_8x_A_2A/tmp/output/spike_train.npy')\n",
    "spike_train_gt = np.load('/media/cat/12TB/insync_cm3746/paninski_lab/data/spikingforest/bionet_static/static_8x_A_2A/ground_truth/spike_train.npy')\n",
    "\n",
    "\n",
    "if True:\n",
    "    results = []\n",
    "    #for unit in units[:10]:\n",
    "    for unit in range(10):\n",
    "        (best_match, best_cos, best_roll,purity) = find_template_match(list((templates_yass[unit],unit)), \n",
    "                                                               templates_gt,\n",
    "                                                               spike_train_yass,        \n",
    "                                                               spike_train_gt)\n",
    "        \n",
    "        #\n",
    "        print (\"unit: \",unit, \", ptp: \", ptps_yass[unit], \n",
    "               \" gt_match: \", best_match, \", ptp: \", ptps_gt[best_match], \n",
    "               \", best cos: \", best_cos,\" , roll: \", best_roll,\n",
    "              \", purity: \", purity)\n",
    "        \n",
    "        results.append([best_match, best_result, best_roll])\n",
    "        \n",
    "        #break\n",
    "        #ks_unit = best_match\n",
    "if False:\n",
    "    import parmap\n",
    "    # KS2 vs. Yass\n",
    "    results = parmap.map(find_template_match, \n",
    "                         templates_yass, \n",
    "                         templates_gt,\n",
    "                         pm_processes=16)\n",
    "    \n",
    "\n",
    "\n",
    "\n",
    "print (\"DONE\")\n",
    "\n"
   ]
  },
  {
   "cell_type": "code",
   "execution_count": 21,
   "metadata": {},
   "outputs": [
    {
     "name": "stdout",
     "output_type": "stream",
     "text": [
      "spikes: (8210,) ptps:  (8210,)\n",
      "(8210, 101)\n",
      "[[0.267004 0.004874 0.329415 1.      ]\n",
      " [0.267004 0.004874 0.329415 1.      ]\n",
      " [0.267004 0.004874 0.329415 1.      ]\n",
      " ...\n",
      " [0.993248 0.906157 0.143936 1.      ]\n",
      " [0.993248 0.906157 0.143936 1.      ]\n",
      " [0.993248 0.906157 0.143936 1.      ]]\n"
     ]
    }
   ],
   "source": [
    "units=np.arange(5)\n",
    "units = [good_units[3]]\n",
    "\n",
    "for unit in units:\n",
    "    fig = plt.figure()\n",
    "    ax = plt.subplot(131)\n",
    "    #plt.plot(templates[unit].T)\n",
    "    plt.plot(wfs_array[unit].mean(0))\n",
    "\n",
    "    ax = plt.subplot(132)\n",
    "    #spikes = spikes[idx]\n",
    "    spikes = times[unit]\n",
    "    print (\"spikes:\", spikes.shape, \"ptps: \", ptps[unit].shape)\n",
    "    plt.scatter(spikes/30000., ptps[unit])\n",
    "\n",
    "    ax=plt.subplot(133)\n",
    "    max_chan = wfs_array[unit].mean(0).ptp(0).argmax(0)#templates[unit].ptp(0).argmax(0)\n",
    "    print (wfs_array[unit].shape)\n",
    "\n",
    "    cmap = cm.get_cmap('viridis',wfs_array[unit].shape[0])\n",
    "    clrs = cmap(np.arange(wfs_array[unit].shape[0]))\n",
    "    print (clrs)\n",
    "    for k in range(0,wfs_array[unit].shape[0],10):\n",
    "        plt.plot(wfs_array[unit][k].T,c=cmap(k))\n",
    "\n",
    "\n",
    "plt.show()\n",
    "\n"
   ]
  },
  {
   "cell_type": "code",
   "execution_count": null,
   "metadata": {},
   "outputs": [],
   "source": []
  }
 ],
 "metadata": {
  "kernelspec": {
   "display_name": "Python 3",
   "language": "python",
   "name": "python3"
  },
  "language_info": {
   "codemirror_mode": {
    "name": "ipython",
    "version": 3
   },
   "file_extension": ".py",
   "mimetype": "text/x-python",
   "name": "python",
   "nbconvert_exporter": "python",
   "pygments_lexer": "ipython3",
   "version": "3.6.7"
  }
 },
 "nbformat": 4,
 "nbformat_minor": 4
}
